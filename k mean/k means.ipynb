{
 "cells": [
  {
   "cell_type": "markdown",
   "id": "8ee96977",
   "metadata": {},
   "source": [
    "# packages "
   ]
  },
  {
   "cell_type": "code",
   "execution_count": 107,
   "id": "9ec837f8",
   "metadata": {},
   "outputs": [],
   "source": [
    "import pandas as pd\n",
    "import numpy as np\n",
    "import matplotlib.pyplot as plt\n",
    "from sklearn.datasets import make_classification\n",
    "from sklearn.cluster import KMeans\n",
    "import warnings\n",
    "warnings.filterwarnings(\"ignore\")"
   ]
  },
  {
   "cell_type": "markdown",
   "id": "f283ab63",
   "metadata": {},
   "source": [
    "# Data"
   ]
  },
  {
   "cell_type": "code",
   "execution_count": 108,
   "id": "ba39fbc5",
   "metadata": {},
   "outputs": [],
   "source": [
    "#dummy data to test clustering\n",
    "X, _ = make_classification(n_samples=1000, n_features=2, n_informative=2, n_redundant=0, n_clusters_per_class=1, random_state=4)"
   ]
  },
  {
   "cell_type": "markdown",
   "id": "33526de8",
   "metadata": {},
   "source": [
    "# Implementation of kmeans"
   ]
  },
  {
   "cell_type": "code",
   "execution_count": 109,
   "id": "63bb9cb4",
   "metadata": {},
   "outputs": [],
   "source": [
    "class Kmeans:\n",
    "    def __init__(self,k,max_iter=1000,random_state=42):\n",
    "        self.k=k\n",
    "        self.max_iter=max_iter\n",
    "        self.random_state=random_state\n",
    "        \n",
    "    \n",
    "    def kMeansInitCentroids(self,X):\n",
    "        np.random.RandomState(self.random_state)\n",
    "        random_idx = np.random.permutation(X.shape[0])\n",
    "        centroids = X[random_idx[:self.k]]\n",
    "        return centroids\n",
    "    \n",
    "    def findClosestCentroids(self,X, centroids):\n",
    "        self.idx=np.zeros((X.shape[0]),dtype=int)\n",
    "        for i in range(X.shape[0]) :\n",
    "            distance=np.linalg.norm(centroids-X[i,:],axis=1)\n",
    "            self.idx[i]=np.argmin(distance,axis=0)\n",
    "    \n",
    "        return self.idx\n",
    "    \n",
    "    \n",
    "    def computeCentroids(self,X):\n",
    "        centroids=np.zeros((self.k,X.shape[1]))\n",
    "        for i in range(self.k):\n",
    "            centroids[i, :] = np.mean(X[self.idx == i, :], axis=0)\n",
    "\n",
    "        return centroids\n",
    "    \n",
    "    \n",
    "    def fit(self, X):\n",
    "        self.centroids=self.kMeansInitCentroids(X)\n",
    "        for i in range(self.max_iter):\n",
    "            old_centroids=self.centroids\n",
    "            self.idx=self.findClosestCentroids(X, self.centroids)\n",
    "            self.centroids=self.computeCentroids(X)\n",
    "            if np.all(old_centroids==self.centroids):\n",
    "                break\n",
    "    \n",
    "    def predict(self,X):\n",
    "        return self.findClosestCentroids(X,self.centroids)\n",
    "    \n",
    "    def labels(self):\n",
    "        return self.idx\n",
    "    \n",
    "    def distortion(self,X):\n",
    "        distances = np.zeros(self.k)\n",
    "        for i in range(self.k):\n",
    "            distances[i]=np.sum(np.linalg.norm(X[self.idx == self.k-1] - self.centroids[self.k-1], axis=1))\n",
    "            \n",
    "        return np.sum(np.square(distances))\n",
    "        "
   ]
  },
  {
   "cell_type": "code",
   "execution_count": 110,
   "id": "eb50b399",
   "metadata": {},
   "outputs": [],
   "source": [
    "model=Kmeans(2)"
   ]
  },
  {
   "cell_type": "code",
   "execution_count": 111,
   "id": "de747029",
   "metadata": {},
   "outputs": [],
   "source": [
    "model.fit(X)\n",
    "yhat = model.predict(X)\n",
    "clusters = np.unique(yhat)"
   ]
  },
  {
   "cell_type": "code",
   "execution_count": 112,
   "id": "43c16f49",
   "metadata": {},
   "outputs": [
    {
     "data": {
      "image/png": "[encoded data removed]",
      "text/plain": [
       "<Figure size 432x288 with 1 Axes>"
      ]
     },
     "metadata": {
      "needs_background": "light"
     },
     "output_type": "display_data"
    }
   ],
   "source": [
    "for cluster in clusters:\n",
    "    # get row indexes for samples with this cluster\n",
    "    row_ix = np.where(yhat == cluster)\n",
    "    # create scatter of these samples\n",
    "    plt.scatter(X[row_ix, 0], X[row_ix, 1])\n",
    "# show the plot\n",
    "plt.show()"
   ]
  },
  {
   "cell_type": "code",
   "execution_count": 113,
   "id": "ffb10463",
   "metadata": {},
   "outputs": [
    {
     "data": {
      "text/plain": [
       "538535.2546034959"
      ]
     },
     "execution_count": 113,
     "metadata": {},
     "output_type": "execute_result"
    }
   ],
   "source": [
    "model.distortion(X)"
   ]
  },
  {
   "cell_type": "markdown",
   "id": "971f3d29",
   "metadata": {},
   "source": [
    "# kmeans in sklearn"
   ]
  },
  {
   "cell_type": "code",
   "execution_count": 114,
   "id": "a4c09aa6",
   "metadata": {},
   "outputs": [],
   "source": [
    "model = KMeans(n_clusters=2)"
   ]
  },
  {
   "cell_type": "code",
   "execution_count": 115,
   "id": "e9b29623",
   "metadata": {},
   "outputs": [],
   "source": [
    "model.fit(X)\n",
    "yhat = model.predict(X)\n",
    "clusters = np.unique(yhat)"
   ]
  },
  {
   "cell_type": "code",
   "execution_count": 116,
   "id": "aad9e1ff",
   "metadata": {},
   "outputs": [
    {
     "data": {
      "image/png": "[encoded data removed]",
      "text/plain": [
       "<Figure size 432x288 with 1 Axes>"
      ]
     },
     "metadata": {
      "needs_background": "light"
     },
     "output_type": "display_data"
    }
   ],
   "source": [
    "for cluster in clusters:\n",
    "    # get row indexes for samples with this cluster\n",
    "    row_ix = np.where(yhat == cluster)\n",
    "    # create scatter of these samples\n",
    "    plt.scatter(X[row_ix, 0], X[row_ix, 1])\n",
    "# show the plot\n",
    "plt.show()"
   ]
  },
  {
   "cell_type": "markdown",
   "id": "f9638be6",
   "metadata": {},
   "source": [
    "# Elbow method and best number of clusters"
   ]
  },
  {
   "cell_type": "code",
   "execution_count": 117,
   "id": "08b0ad58",
   "metadata": {},
   "outputs": [
    {
     "data": {
      "image/png": "[encoded data removed]",
      "text/plain": [
       "<Figure size 432x288 with 1 Axes>"
      ]
     },
     "metadata": {
      "needs_background": "light"
     },
     "output_type": "display_data"
    },
    {
     "data": {
      "image/png": "[encoded data removed]",
      "text/plain": [
       "<Figure size 432x288 with 1 Axes>"
      ]
     },
     "metadata": {
      "needs_background": "light"
     },
     "output_type": "display_data"
    }
   ],
   "source": [
    "K = range(1, 10)\n",
    "distortions=[]\n",
    "inertias=[]\n",
    "for k in K:\n",
    "    # Building and fitting the model\n",
    "    kmeanModel_sklearn = KMeans(n_clusters=k).fit(X)\n",
    "    kmeanModel_implementation = Kmeans(k)\n",
    "    kmeanModel_implementation.fit(X)\n",
    "    distortions.append(kmeanModel_implementation.distortion(X))\n",
    "    inertias.append(kmeanModel_sklearn.inertia_)\n",
    " \n",
    "\n",
    "plt.plot(K, distortions, 'bx-')\n",
    "plt.xlabel('Values of K')\n",
    "plt.ylabel('Distortion')\n",
    "plt.title('The Elbow Method using Distortion')\n",
    "plt.show()\n",
    "\n",
    "plt.plot(K, inertias, 'bx-')\n",
    "plt.xlabel('Values of K')\n",
    "plt.ylabel('Inertia')\n",
    "plt.title('The Elbow Method using Inertia')\n",
    "plt.show()"
   ]
  },
  {
   "cell_type": "code",
   "execution_count": 118,
   "id": "d57034ff",
   "metadata": {},
   "outputs": [],
   "source": [
    "#the best number of clusters\n",
    "def best_no_cluster(k,inertia):\n",
    "    variation=np.zeros(k-1)\n",
    "    for i in range(k-1):\n",
    "        variation[i]=inertia[i+1]-inertia[i]\n",
    "    \n",
    "    return np.argmax(variation)"
   ]
  },
  {
   "cell_type": "code",
   "execution_count": 119,
   "id": "61a78f43",
   "metadata": {},
   "outputs": [
    {
     "data": {
      "text/plain": [
       "5"
      ]
     },
     "execution_count": 119,
     "metadata": {},
     "output_type": "execute_result"
    }
   ],
   "source": [
    "best_no_cluster(9,distortions)"
   ]
  },
  {
   "cell_type": "code",
   "execution_count": 120,
   "id": "f3506594",
   "metadata": {},
   "outputs": [
    {
     "data": {
      "text/plain": [
       "7"
      ]
     },
     "execution_count": 120,
     "metadata": {},
     "output_type": "execute_result"
    }
   ],
   "source": [
    "best_no_cluster(9,inertias)"
   ]
  },
  {
   "cell_type": "code",
   "execution_count": null,
   "id": "378e4d87",
   "metadata": {},
   "outputs": [],
   "source": []
  }
 ],
 "metadata": {
  "kernelspec": {
   "display_name": "Python 3 (ipykernel)",
   "language": "python",
   "name": "python3"
  },
  "language_info": {
   "codemirror_mode": {
    "name": "ipython",
    "version": 3
   },
   "file_extension": ".py",
   "mimetype": "text/x-python",
   "name": "python",
   "nbconvert_exporter": "python",
   "pygments_lexer": "ipython3",
   "version": "3.9.7"
  }
 },
 "nbformat": 4,
 "nbformat_minor": 5
}
