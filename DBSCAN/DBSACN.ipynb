{
 "cells": [
  {
   "cell_type": "markdown",
   "id": "8ee96977",
   "metadata": {},
   "source": [
    "# packages "
   ]
  },
  {
   "cell_type": "code",
   "execution_count": 4,
   "id": "9ec837f8",
   "metadata": {},
   "outputs": [],
   "source": [
    "import pandas as pd\n",
    "import numpy as np\n",
    "import matplotlib.pyplot as plt\n",
    "from sklearn.datasets import make_moons\n",
    "from sklearn.cluster import DBSCAN\n",
    "import warnings\n",
    "warnings.filterwarnings(\"ignore\")"
   ]
  },
  {
   "cell_type": "markdown",
   "id": "f283ab63",
   "metadata": {},
   "source": [
    "# Data"
   ]
  },
  {
   "cell_type": "code",
   "execution_count": 30,
   "id": "b015e795",
   "metadata": {},
   "outputs": [
    {
     "data": {
      "image/png": "[encoded data removed]",
      "text/plain": [
       "<Figure size 432x288 with 1 Axes>"
      ]
     },
     "metadata": {
      "needs_background": "light"
     },
     "output_type": "display_data"
    }
   ],
   "source": [
    "# generate 2d classification dataset\n",
    "X, y= make_moons(n_samples=1000, noise=0.03)\n",
    "# scatter plot, dots colored by class value\n",
    "df = pd.DataFrame(dict(x=X[:,0], y=X[:,1], label=y))\n",
    "colors = {0:'red', 1:'blue'}\n",
    "fig, ax = pyplot.subplots()\n",
    "grouped = df.groupby('label')\n",
    "for key, group in grouped:\n",
    "    group.plot(ax=ax, kind='scatter', x='x', y='y', label=key, color=colors[key])\n",
    "pyplot.show()"
   ]
  },
  {
   "cell_type": "markdown",
   "id": "33526de8",
   "metadata": {},
   "source": [
    "# Implementation of DBSCAN"
   ]
  },
  {
   "cell_type": "code",
   "execution_count": 109,
   "id": "63bb9cb4",
   "metadata": {},
   "outputs": [],
   "source": [
    "class DBSCAN:\n",
    "    def __init__(self,k,eps,minpts,random_state=42):\n",
    "        self.eps=eps\n",
    "        self.minpts=minpts\n",
    "        self.random_state=random_state\n",
    "    \n",
    "    def get_no_neighbours(x,point):\n",
    "        no_neighbours=0\n",
    "        #TODO\n",
    "        \n",
    "        return no_neighbours\n",
    "    \n",
    "    \n",
    "    def mark_the cluster(x,point,cluster_no):\n",
    "        #TODO\n",
    "        return\n",
    "    \n",
    "    \n",
    "    def check_neighbours(x,points,cluster_no):\n",
    "        #TODO\n",
    "        return\n",
    "    \n",
    "        \n",
    "    \n",
    "    def fit(self,x):\n",
    "        cluster_no=0\n",
    "        self.idx=np.zeros(x.shape[0])\n",
    "        # -1 -> noise , 0 -> not visited\n",
    "        # 1 -> core point , 2 -> border point\n",
    "        #get a random point\n",
    "        while np.where(self.idx==0)[0].size !=0:\n",
    "            np.random.RandomState(self.random_state)\n",
    "            random_idx = np.random.randint(X.shape[0],size=1)\n",
    "            random_point=x[random_idx[0],:]\n",
    "            # check if it's not visited\n",
    "            if self.idx[random_idx[0]]==0:\n",
    "                if get_no_neighbours(x,random_point)<self.minpts:\n",
    "                    #mark as noise\n",
    "                    self.idx[random_idx[0]]=-1\n",
    "                    \n",
    "                else:\n",
    "                    #start a cluster\n",
    "                    cluster_no+=1\n",
    "                    #mark point and its neighbours\n",
    "                    mark_the cluster(x,random_idx[0],cluster_no)\n",
    "                    #check all the points recursively\n",
    "                    points_idx=np.where(self.isx==cluster_no)\n",
    "                    points_idx=np.delete(points_idx,random_idx[0])\n",
    "                    check_neighbours(x,points_idx,cluster_no)\n",
    "                \n",
    "                  "
   ]
  },
  {
   "cell_type": "code",
   "execution_count": 110,
   "id": "eb50b399",
   "metadata": {},
   "outputs": [],
   "source": [
    "model=DBSCAN(eps=0.3,minpts=9)"
   ]
  },
  {
   "cell_type": "code",
   "execution_count": 111,
   "id": "de747029",
   "metadata": {},
   "outputs": [],
   "source": [
    "model.fit(df)\n",
    "yhat = model.predict(df)\n",
    "clusters = np.unique(yhat)"
   ]
  },
  {
   "cell_type": "code",
   "execution_count": null,
   "id": "230fcbee",
   "metadata": {},
   "outputs": [],
   "source": [
    "for cluster in clusters:\n",
    "    # get row indexes for samples with this cluster\n",
    "    row_ix = np.where(yhat == cluster)\n",
    "    # create scatter of these samples\n",
    "    plt.scatter(X[row_ix, 0], X[row_ix, 1])\n",
    "# show the plot\n",
    "plt.show()"
   ]
  },
  {
   "cell_type": "code",
   "execution_count": 75,
   "id": "ffb10463",
   "metadata": {},
   "outputs": [
    {
     "data": {
      "text/plain": [
       "1"
      ]
     },
     "execution_count": 75,
     "metadata": {},
     "output_type": "execute_result"
    }
   ],
   "source": [
    "arr=np.array([1,2,0,3])\n",
    "np.where(arr==0)[0].size"
   ]
  },
  {
   "cell_type": "markdown",
   "id": "971f3d29",
   "metadata": {},
   "source": [
    "# DBSCAN in sklearn"
   ]
  },
  {
   "cell_type": "code",
   "execution_count": 39,
   "id": "a4c09aa6",
   "metadata": {},
   "outputs": [],
   "source": [
    "# define the model\n",
    "model = DBSCAN(eps=0.3, min_samples=9)"
   ]
  },
  {
   "cell_type": "code",
   "execution_count": 40,
   "id": "e9b29623",
   "metadata": {},
   "outputs": [],
   "source": [
    "# fit model and predict clusters\n",
    "yhat = model.fit_predict(X)\n",
    "# retrieve unique clusters\n",
    "clusters = np.unique(yhat)"
   ]
  },
  {
   "cell_type": "code",
   "execution_count": 42,
   "id": "aad9e1ff",
   "metadata": {},
   "outputs": [
    {
     "data": {
      "image/png": "[encoded data removed]",
      "text/plain": [
       "<Figure size 432x288 with 1 Axes>"
      ]
     },
     "metadata": {
      "needs_background": "light"
     },
     "output_type": "display_data"
    }
   ],
   "source": [
    "# create scatter plot for samples from each cluster\n",
    "for cluster in clusters:\n",
    "    # get row indexes for samples with this cluster\n",
    "    row_ix = np.where(yhat == cluster)\n",
    "    # create scatter of these samples\n",
    "    pyplot.scatter(X[row_ix, 0], X[row_ix, 1])\n",
    "# show the plot\n",
    "pyplot.show()"
   ]
  },
  {
   "cell_type": "code",
   "execution_count": null,
   "id": "1757fc4d",
   "metadata": {},
   "outputs": [],
   "source": []
  }
 ],
 "metadata": {
  "kernelspec": {
   "display_name": "Python 3 (ipykernel)",
   "language": "python",
   "name": "python3"
  },
  "language_info": {
   "codemirror_mode": {
    "name": "ipython",
    "version": 3
   },
   "file_extension": ".py",
   "mimetype": "text/x-python",
   "name": "python",
   "nbconvert_exporter": "python",
   "pygments_lexer": "ipython3",
   "version": "3.9.7"
  }
 },
 "nbformat": 4,
 "nbformat_minor": 5
}
