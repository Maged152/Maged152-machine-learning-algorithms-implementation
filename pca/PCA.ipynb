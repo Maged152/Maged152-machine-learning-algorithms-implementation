{
 "cells": [
  {
   "cell_type": "markdown",
   "id": "df994c5c",
   "metadata": {},
   "source": [
    "# packages"
   ]
  },
  {
   "cell_type": "code",
   "execution_count": 3,
   "id": "178acebb",
   "metadata": {},
   "outputs": [],
   "source": [
    "import pandas as pd\n",
    "import numpy as np\n",
    "import matplotlib.pyplot as plt\n",
    "from sklearn.datasets import make_classification\n",
    "import warnings\n",
    "warnings.filterwarnings(\"ignore\")"
   ]
  },
  {
   "cell_type": "markdown",
   "id": "132e616d",
   "metadata": {},
   "source": [
    "# Data"
   ]
  },
  {
   "cell_type": "code",
   "execution_count": 58,
   "id": "0c2fc962",
   "metadata": {},
   "outputs": [],
   "source": [
    "#dummy data to test clustering\n",
    "X, _ = make_classification(n_samples=1000, n_features=15)"
   ]
  },
  {
   "cell_type": "markdown",
   "id": "b02ceef5",
   "metadata": {},
   "source": [
    "# sklearn "
   ]
  },
  {
   "cell_type": "code",
   "execution_count": 67,
   "id": "291095ad",
   "metadata": {},
   "outputs": [
    {
     "name": "stdout",
     "output_type": "stream",
     "text": [
      "0.8940149225089129\n"
     ]
    }
   ],
   "source": [
    "from sklearn.decomposition import PCA\n",
    " \n",
    "pca = PCA(n_components=11)\n",
    "xx=pca.fit_transform(X) \n",
    "print(np.sum(pca.explained_variance_ratio_[:11]))"
   ]
  },
  {
   "cell_type": "markdown",
   "id": "c2e37789",
   "metadata": {},
   "source": [
    "# implementation"
   ]
  },
  {
   "cell_type": "code",
   "execution_count": 68,
   "id": "a62f8573",
   "metadata": {},
   "outputs": [],
   "source": [
    "class PCA ():\n",
    "    \n",
    "    def __init__(self,n_components = 0.95):\n",
    "        self.n_components = n_components\n",
    "        if self.n_components > 1:\n",
    "            self.type = 'var'\n",
    "        else:\n",
    "            self.type = 'ratio'\n",
    "\n",
    "    def fit(self,X):\n",
    "        self.mean = np.mean(X, axis = 0)\n",
    "        self.std = np.std(X, axis = 0)\n",
    "        #normalization & scalling\n",
    "        X_new=(X-self.mean)/self.std\n",
    "        #cav matrix\n",
    "        cov_m=np.cov(X_new, rowvar=False)\n",
    "        #calculate pca\n",
    "        self.evalue, evect=np.linalg.eig(cov_m)\n",
    "        #sort the eigenvalues in descending order\n",
    "        sorted_index = np.argsort(self.evalue)[::-1]\n",
    "        self.evalue = self.evalue[sorted_index]\n",
    "        #similarly sort the eigenvectors \n",
    "        evect = evect[:,sorted_index]\n",
    "        evalue_cum=np.cumsum(self.evalue)\n",
    "        evalue_cum=evalue_cum/evalue_cum[-1]\n",
    "        self.no_of_component=next(x[0] for x in enumerate(evalue_cum) if x[1] > self.n_components)+1\n",
    "        print(\"no of component:\",self.no_of_component,\",variance: \",evalue_cum[self.no_of_component-1])\n",
    "        self.components=evect[:,self.no_of_component]\n",
    "        self.variance=self.evalue[:self.no_of_component]\n",
    "        X_new=np.dot(X_new,self.components)\n",
    "        \n",
    "        return X_new\n",
    "\n",
    "    def transform(self,Z):\n",
    "        mean = np.mean(Z, axis = 0)\n",
    "        std = np.std(Z, axis = 0)\n",
    "        Z_new = (Z - mean )/std\n",
    "        Z_new =np.dot( Z_new , self.components)\n",
    "\n",
    "        return Z_new\n",
    "\n",
    "    #optional \n",
    "    def plot_explained_variance(self):\n",
    "        L=len(self.evalue)+1\n",
    "        x= np.arange(1, L, 1).tolist()\n",
    "        evalue_cum=np.cumsum(self.evalue)\n",
    "        evalue_cum=evalue_cum/evalue_cum[-1]\n",
    "        plt.plot(x,evalue_cum)\n",
    "        plt.show()\n"
   ]
  },
  {
   "cell_type": "code",
   "execution_count": 69,
   "id": "22659c7d",
   "metadata": {},
   "outputs": [
    {
     "name": "stdout",
     "output_type": "stream",
     "text": [
      "no of component: 11 ,variance:  0.8880932800719971\n"
     ]
    },
    {
     "data": {
      "image/png": "[encoded data removed]",
      "text/plain": [
       "<Figure size 432x288 with 1 Axes>"
      ]
     },
     "metadata": {
      "needs_background": "light"
     },
     "output_type": "display_data"
    }
   ],
   "source": [
    "pca=PCA(.87)\n",
    "xx=pca.fit(X)\n",
    "pca.plot_explained_variance()"
   ]
  },
  {
   "cell_type": "code",
   "execution_count": null,
   "id": "3a83d66c",
   "metadata": {},
   "outputs": [],
   "source": []
  }
 ],
 "metadata": {
  "kernelspec": {
   "display_name": "Python 3 (ipykernel)",
   "language": "python",
   "name": "python3"
  },
  "language_info": {
   "codemirror_mode": {
    "name": "ipython",
    "version": 3
   },
   "file_extension": ".py",
   "mimetype": "text/x-python",
   "name": "python",
   "nbconvert_exporter": "python",
   "pygments_lexer": "ipython3",
   "version": "3.9.7"
  }
 },
 "nbformat": 4,
 "nbformat_minor": 5
}
